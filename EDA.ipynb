{
 "cells": [
  {
   "cell_type": "markdown",
   "id": "97bf4b46-a9d6-45cc-a463-dafdde2f9ef3",
   "metadata": {
    "tags": []
   },
   "source": [
    "\n",
    "# Setup\n"
   ]
  },
  {
   "cell_type": "markdown",
   "id": "2d8b8911-37ca-4cd6-89c9-eb49073d27b1",
   "metadata": {
    "tags": []
   },
   "source": [
    "## Download the required libraries"
   ]
  },
  {
   "cell_type": "code",
   "execution_count": 1,
   "id": "72af4946-9c0b-459b-a7fa-35bedbf0824f",
   "metadata": {
    "scrolled": true,
    "tags": []
   },
   "outputs": [
    {
     "name": "stdout",
     "output_type": "stream",
     "text": [
      "C:\\Users\\Andre Tabourian\\Documents\\GitHub\\CMPS276_Data_Science_Project\\cmps276\\Scripts\\python.exe\n",
      "Requirement already satisfied: numpy in c:\\users\\andre tabourian\\documents\\github\\cmps276_data_science_project\\cmps276\\lib\\site-packages (1.21.3)\n",
      "Requirement already satisfied: pandas in c:\\users\\andre tabourian\\documents\\github\\cmps276_data_science_project\\cmps276\\lib\\site-packages (1.3.4)\n",
      "Requirement already satisfied: pytz>=2017.3 in c:\\users\\andre tabourian\\documents\\github\\cmps276_data_science_project\\cmps276\\lib\\site-packages (from pandas) (2021.3)\n",
      "Requirement already satisfied: python-dateutil>=2.7.3 in c:\\users\\andre tabourian\\documents\\github\\cmps276_data_science_project\\cmps276\\lib\\site-packages (from pandas) (2.8.2)\n",
      "Requirement already satisfied: numpy>=1.21.0 in c:\\users\\andre tabourian\\documents\\github\\cmps276_data_science_project\\cmps276\\lib\\site-packages (from pandas) (1.21.3)\n",
      "Requirement already satisfied: six>=1.5 in c:\\users\\andre tabourian\\documents\\github\\cmps276_data_science_project\\cmps276\\lib\\site-packages (from python-dateutil>=2.7.3->pandas) (1.16.0)\n",
      "Requirement already satisfied: matplotlib in c:\\users\\andre tabourian\\documents\\github\\cmps276_data_science_project\\cmps276\\lib\\site-packages (3.4.3)\n",
      "Requirement already satisfied: cycler>=0.10 in c:\\users\\andre tabourian\\documents\\github\\cmps276_data_science_project\\cmps276\\lib\\site-packages (from matplotlib) (0.10.0)\n",
      "Requirement already satisfied: python-dateutil>=2.7 in c:\\users\\andre tabourian\\documents\\github\\cmps276_data_science_project\\cmps276\\lib\\site-packages (from matplotlib) (2.8.2)\n",
      "Requirement already satisfied: kiwisolver>=1.0.1 in c:\\users\\andre tabourian\\documents\\github\\cmps276_data_science_project\\cmps276\\lib\\site-packages (from matplotlib) (1.3.2)\n",
      "Requirement already satisfied: numpy>=1.16 in c:\\users\\andre tabourian\\documents\\github\\cmps276_data_science_project\\cmps276\\lib\\site-packages (from matplotlib) (1.21.3)\n",
      "Requirement already satisfied: pillow>=6.2.0 in c:\\users\\andre tabourian\\documents\\github\\cmps276_data_science_project\\cmps276\\lib\\site-packages (from matplotlib) (8.4.0)\n",
      "Requirement already satisfied: pyparsing>=2.2.1 in c:\\users\\andre tabourian\\documents\\github\\cmps276_data_science_project\\cmps276\\lib\\site-packages (from matplotlib) (3.0.1)\n",
      "Requirement already satisfied: six in c:\\users\\andre tabourian\\documents\\github\\cmps276_data_science_project\\cmps276\\lib\\site-packages (from cycler>=0.10->matplotlib) (1.16.0)\n",
      "Requirement already satisfied: tabulate in c:\\users\\andre tabourian\\documents\\github\\cmps276_data_science_project\\cmps276\\lib\\site-packages (0.8.9)\n"
     ]
    }
   ],
   "source": [
    "import sys\n",
    "\n",
    "print( sys.executable )\n",
    "\n",
    "!\"{sys.executable}\" -u -m pip install numpy\n",
    "!\"{sys.executable}\" -u -m pip install pandas\n",
    "!\"{sys.executable}\" -u -m pip install matplotlib\n",
    "!\"{sys.executable}\" -u -m pip install tabulate\n"
   ]
  },
  {
   "cell_type": "markdown",
   "id": "abd6ae53-abc5-411a-a775-96f31cef147c",
   "metadata": {},
   "source": [
    "\n",
    "## Import the required libraries\n"
   ]
  },
  {
   "cell_type": "code",
   "execution_count": 2,
   "id": "4c2cd6c5-dc81-45c1-a590-6c0377ca019c",
   "metadata": {},
   "outputs": [],
   "source": [
    "import numpy as numpy\n",
    "import pandas as pandas\n",
    "import matplotlib.pyplot as plt\n",
    "\n",
    "from IPython.display import HTML, display\n",
    "import tabulate\n",
    "\n"
   ]
  },
  {
   "cell_type": "markdown",
   "id": "75f753c1-f2d9-4451-9bb5-6a68b9e21950",
   "metadata": {
    "tags": []
   },
   "source": [
    "## Define Useful Function"
   ]
  },
  {
   "cell_type": "code",
   "execution_count": 3,
   "id": "f8d913ef-7ab9-4f25-b07a-063a1659de97",
   "metadata": {},
   "outputs": [],
   "source": [
    "\n",
    "def displayAsTable( lst: list[list] ) -> None:\n",
    "    display(\n",
    "        HTML(\n",
    "            tabulate.tabulate(lst, tablefmt='html')\n",
    "        )\n",
    "    )\n"
   ]
  },
  {
   "cell_type": "markdown",
   "id": "58eddb39-bba8-42f7-9b93-33fc651cd3e1",
   "metadata": {
    "tags": []
   },
   "source": [
    "\n",
    "# Exploratory Data Analysis\n"
   ]
  },
  {
   "cell_type": "markdown",
   "id": "1b184e2c-8c52-4931-9dfa-e74804d01b63",
   "metadata": {
    "tags": []
   },
   "source": [
    "## Load the datasets and combine them into one"
   ]
  },
  {
   "cell_type": "markdown",
   "id": "342d9cb9-ba66-4316-9a52-4cc6024ac500",
   "metadata": {},
   "source": [
    "These data sets exist in four separate files USDA website only lets us download a maximum number of rows of 50,000 per file."
   ]
  },
  {
   "cell_type": "code",
   "execution_count": 4,
   "id": "d511b972-230b-4c01-a922-85d54c847c39",
   "metadata": {},
   "outputs": [],
   "source": [
    "\n",
    "df_1 = pandas.read_csv (r'data/CropYields-1909-1939.csv')\n",
    "df_2 = pandas.read_csv (r'data/CropYields-1940-1969.csv')\n",
    "df_3 = pandas.read_csv (r'data/CropYields-1970-1989.csv')\n",
    "df_4 = pandas.read_csv (r'data/CropYields-1990-2007.csv')\n",
    "\n",
    "df = pandas.concat([df_1, df_2, df_3, df_4])\n",
    "\n"
   ]
  },
  {
   "cell_type": "markdown",
   "id": "c35db906-3fdb-4c5c-ad7b-98541df8f19c",
   "metadata": {
    "tags": []
   },
   "source": [
    "\n",
    "## We take a look at the column names and the first couple of rows\n"
   ]
  },
  {
   "cell_type": "code",
   "execution_count": 5,
   "id": "a4dab99b-89ad-45f3-a5fe-cddccda62d65",
   "metadata": {},
   "outputs": [
    {
     "data": {
      "text/html": [
       "<div>\n",
       "<style scoped>\n",
       "    .dataframe tbody tr th:only-of-type {\n",
       "        vertical-align: middle;\n",
       "    }\n",
       "\n",
       "    .dataframe tbody tr th {\n",
       "        vertical-align: top;\n",
       "    }\n",
       "\n",
       "    .dataframe thead th {\n",
       "        text-align: right;\n",
       "    }\n",
       "</style>\n",
       "<table border=\"1\" class=\"dataframe\">\n",
       "  <thead>\n",
       "    <tr style=\"text-align: right;\">\n",
       "      <th></th>\n",
       "      <th>Program</th>\n",
       "      <th>Year</th>\n",
       "      <th>Period</th>\n",
       "      <th>Week Ending</th>\n",
       "      <th>Geo Level</th>\n",
       "      <th>State</th>\n",
       "      <th>State ANSI</th>\n",
       "      <th>Ag District</th>\n",
       "      <th>Ag District Code</th>\n",
       "      <th>County</th>\n",
       "      <th>...</th>\n",
       "      <th>Zip Code</th>\n",
       "      <th>Region</th>\n",
       "      <th>watershed_code</th>\n",
       "      <th>Watershed</th>\n",
       "      <th>Commodity</th>\n",
       "      <th>Data Item</th>\n",
       "      <th>Domain</th>\n",
       "      <th>Domain Category</th>\n",
       "      <th>Value</th>\n",
       "      <th>CV (%)</th>\n",
       "    </tr>\n",
       "  </thead>\n",
       "  <tbody>\n",
       "    <tr>\n",
       "      <th>0</th>\n",
       "      <td>SURVEY</td>\n",
       "      <td>1939</td>\n",
       "      <td>YEAR</td>\n",
       "      <td>NaN</td>\n",
       "      <td>COUNTY</td>\n",
       "      <td>COLORADO</td>\n",
       "      <td>8</td>\n",
       "      <td>EAST CENTRAL</td>\n",
       "      <td>60</td>\n",
       "      <td>ADAMS</td>\n",
       "      <td>...</td>\n",
       "      <td>NaN</td>\n",
       "      <td>NaN</td>\n",
       "      <td>0</td>\n",
       "      <td>NaN</td>\n",
       "      <td>WHEAT</td>\n",
       "      <td>WHEAT - YIELD, MEASURED IN BU / ACRE</td>\n",
       "      <td>TOTAL</td>\n",
       "      <td>NOT SPECIFIED</td>\n",
       "      <td>11.5</td>\n",
       "      <td>NaN</td>\n",
       "    </tr>\n",
       "    <tr>\n",
       "      <th>1</th>\n",
       "      <td>SURVEY</td>\n",
       "      <td>1939</td>\n",
       "      <td>YEAR</td>\n",
       "      <td>NaN</td>\n",
       "      <td>COUNTY</td>\n",
       "      <td>COLORADO</td>\n",
       "      <td>8</td>\n",
       "      <td>EAST CENTRAL</td>\n",
       "      <td>60</td>\n",
       "      <td>ARAPAHOE</td>\n",
       "      <td>...</td>\n",
       "      <td>NaN</td>\n",
       "      <td>NaN</td>\n",
       "      <td>0</td>\n",
       "      <td>NaN</td>\n",
       "      <td>WHEAT</td>\n",
       "      <td>WHEAT - YIELD, MEASURED IN BU / ACRE</td>\n",
       "      <td>TOTAL</td>\n",
       "      <td>NOT SPECIFIED</td>\n",
       "      <td>10.0</td>\n",
       "      <td>NaN</td>\n",
       "    </tr>\n",
       "    <tr>\n",
       "      <th>2</th>\n",
       "      <td>SURVEY</td>\n",
       "      <td>1939</td>\n",
       "      <td>YEAR</td>\n",
       "      <td>NaN</td>\n",
       "      <td>COUNTY</td>\n",
       "      <td>COLORADO</td>\n",
       "      <td>8</td>\n",
       "      <td>EAST CENTRAL</td>\n",
       "      <td>60</td>\n",
       "      <td>CHEYENNE</td>\n",
       "      <td>...</td>\n",
       "      <td>NaN</td>\n",
       "      <td>NaN</td>\n",
       "      <td>0</td>\n",
       "      <td>NaN</td>\n",
       "      <td>WHEAT</td>\n",
       "      <td>WHEAT - YIELD, MEASURED IN BU / ACRE</td>\n",
       "      <td>TOTAL</td>\n",
       "      <td>NOT SPECIFIED</td>\n",
       "      <td>5.0</td>\n",
       "      <td>NaN</td>\n",
       "    </tr>\n",
       "    <tr>\n",
       "      <th>3</th>\n",
       "      <td>SURVEY</td>\n",
       "      <td>1939</td>\n",
       "      <td>YEAR</td>\n",
       "      <td>NaN</td>\n",
       "      <td>COUNTY</td>\n",
       "      <td>COLORADO</td>\n",
       "      <td>8</td>\n",
       "      <td>EAST CENTRAL</td>\n",
       "      <td>60</td>\n",
       "      <td>DOUGLAS</td>\n",
       "      <td>...</td>\n",
       "      <td>NaN</td>\n",
       "      <td>NaN</td>\n",
       "      <td>0</td>\n",
       "      <td>NaN</td>\n",
       "      <td>WHEAT</td>\n",
       "      <td>WHEAT - YIELD, MEASURED IN BU / ACRE</td>\n",
       "      <td>TOTAL</td>\n",
       "      <td>NOT SPECIFIED</td>\n",
       "      <td>14.0</td>\n",
       "      <td>NaN</td>\n",
       "    </tr>\n",
       "    <tr>\n",
       "      <th>4</th>\n",
       "      <td>SURVEY</td>\n",
       "      <td>1939</td>\n",
       "      <td>YEAR</td>\n",
       "      <td>NaN</td>\n",
       "      <td>COUNTY</td>\n",
       "      <td>COLORADO</td>\n",
       "      <td>8</td>\n",
       "      <td>EAST CENTRAL</td>\n",
       "      <td>60</td>\n",
       "      <td>EL PASO</td>\n",
       "      <td>...</td>\n",
       "      <td>NaN</td>\n",
       "      <td>NaN</td>\n",
       "      <td>0</td>\n",
       "      <td>NaN</td>\n",
       "      <td>WHEAT</td>\n",
       "      <td>WHEAT - YIELD, MEASURED IN BU / ACRE</td>\n",
       "      <td>TOTAL</td>\n",
       "      <td>NOT SPECIFIED</td>\n",
       "      <td>8.0</td>\n",
       "      <td>NaN</td>\n",
       "    </tr>\n",
       "  </tbody>\n",
       "</table>\n",
       "<p>5 rows × 21 columns</p>\n",
       "</div>"
      ],
      "text/plain": [
       "  Program  Year Period  Week Ending Geo Level     State  State ANSI  \\\n",
       "0  SURVEY  1939   YEAR          NaN    COUNTY  COLORADO           8   \n",
       "1  SURVEY  1939   YEAR          NaN    COUNTY  COLORADO           8   \n",
       "2  SURVEY  1939   YEAR          NaN    COUNTY  COLORADO           8   \n",
       "3  SURVEY  1939   YEAR          NaN    COUNTY  COLORADO           8   \n",
       "4  SURVEY  1939   YEAR          NaN    COUNTY  COLORADO           8   \n",
       "\n",
       "    Ag District  Ag District Code    County  ...  Zip Code  Region  \\\n",
       "0  EAST CENTRAL                60     ADAMS  ...       NaN     NaN   \n",
       "1  EAST CENTRAL                60  ARAPAHOE  ...       NaN     NaN   \n",
       "2  EAST CENTRAL                60  CHEYENNE  ...       NaN     NaN   \n",
       "3  EAST CENTRAL                60   DOUGLAS  ...       NaN     NaN   \n",
       "4  EAST CENTRAL                60   EL PASO  ...       NaN     NaN   \n",
       "\n",
       "   watershed_code  Watershed  Commodity                             Data Item  \\\n",
       "0               0        NaN      WHEAT  WHEAT - YIELD, MEASURED IN BU / ACRE   \n",
       "1               0        NaN      WHEAT  WHEAT - YIELD, MEASURED IN BU / ACRE   \n",
       "2               0        NaN      WHEAT  WHEAT - YIELD, MEASURED IN BU / ACRE   \n",
       "3               0        NaN      WHEAT  WHEAT - YIELD, MEASURED IN BU / ACRE   \n",
       "4               0        NaN      WHEAT  WHEAT - YIELD, MEASURED IN BU / ACRE   \n",
       "\n",
       "  Domain Domain Category Value  CV (%)  \n",
       "0  TOTAL   NOT SPECIFIED  11.5     NaN  \n",
       "1  TOTAL   NOT SPECIFIED  10.0     NaN  \n",
       "2  TOTAL   NOT SPECIFIED   5.0     NaN  \n",
       "3  TOTAL   NOT SPECIFIED  14.0     NaN  \n",
       "4  TOTAL   NOT SPECIFIED   8.0     NaN  \n",
       "\n",
       "[5 rows x 21 columns]"
      ]
     },
     "execution_count": 5,
     "metadata": {},
     "output_type": "execute_result"
    }
   ],
   "source": [
    "df.head()"
   ]
  },
  {
   "cell_type": "markdown",
   "id": "3a4b0a91-2b91-4782-9dc0-981de31e09bf",
   "metadata": {},
   "source": [
    "\n",
    "We can see that there seems to be meta-data about this data set, as well as some missing data.\n",
    "\n",
    "We therefore choose to look at the unique values in each column.\n"
   ]
  },
  {
   "cell_type": "markdown",
   "id": "f328bb50-e57d-4198-84b0-7871e03daf2a",
   "metadata": {},
   "source": [
    "\n",
    "## We take a look at the unique values in each column\n"
   ]
  },
  {
   "cell_type": "markdown",
   "id": "65293cb9-642d-4b8f-8815-4ffcda1136a2",
   "metadata": {
    "tags": []
   },
   "source": [
    "### Global Analysis of Columns"
   ]
  },
  {
   "cell_type": "code",
   "execution_count": 6,
   "id": "7334dd1f-31aa-4b98-a88c-e1cfd9b6b8e0",
   "metadata": {
    "scrolled": true,
    "tags": []
   },
   "outputs": [
    {
     "name": "stdout",
     "output_type": "stream",
     "text": [
      "Program:  ['SURVEY']\n",
      "-------------------------------------------------------------------------------------------\n",
      "Year:  [1939 1938 1937 1936 1935 1934 1933 1932 1931 1930 1929 1928 1927 1926\n",
      " 1925 1924 1923 1922 1921 1920 1919 1918 1909 1969 1968 1967 1966 1965\n",
      " 1964 1963 1962 1961 1960 1959 1958 1957 1956 1955 1954 1953 1952 1951\n",
      " 1950 1949 1948 1947 1946 1945 1944 1943 1942 1941 1940 1989 1988 1987\n",
      " 1986 1985 1984 1983 1982 1981 1980 1979 1978 1977 1976 1975 1974 1973\n",
      " 1972 1971 1970 2007 2006 2005 2004 2003 2002 2001 2000 1999 1998 1997\n",
      " 1996 1995 1994 1993 1992 1991 1990]\n",
      "-------------------------------------------------------------------------------------------\n",
      "Period:  ['YEAR']\n",
      "-------------------------------------------------------------------------------------------\n",
      "Week Ending:  [nan]\n",
      "-------------------------------------------------------------------------------------------\n",
      "Geo Level:  ['COUNTY']\n",
      "-------------------------------------------------------------------------------------------\n",
      "State:  ['COLORADO' 'DELAWARE' 'IDAHO' 'ILLINOIS' 'INDIANA' 'KANSAS' 'MARYLAND'\n",
      " 'MINNESOTA' 'MISSOURI' 'MONTANA' 'NORTH DAKOTA' 'OHIO' 'OKLAHOMA'\n",
      " 'OREGON' 'SOUTH DAKOTA' 'VIRGINIA' 'WASHINGTON' 'WYOMING' 'WEST VIRGINIA'\n",
      " 'ALABAMA' 'ARIZONA' 'ARKANSAS' 'CALIFORNIA' 'FLORIDA' 'GEORGIA'\n",
      " 'LOUISIANA' 'MICHIGAN' 'MISSISSIPPI' 'NEBRASKA' 'NEW JERSEY' 'NEW MEXICO'\n",
      " 'PENNSYLVANIA' 'TENNESSEE' 'TEXAS' 'WISCONSIN' 'SOUTH CAROLINA' 'IOWA'\n",
      " 'KENTUCKY' 'NEVADA' 'NEW YORK' 'NORTH CAROLINA' 'UTAH']\n",
      "-------------------------------------------------------------------------------------------\n",
      "State ANSI:  [ 8 10 16 17 18 20 24 27 29 30 38 39 40 41 46 51 53 56 54  1  4  5  6 12\n",
      " 13 22 26 28 31 34 35 42 47 48 55 45 19 21 32 36 37 49]\n",
      "-------------------------------------------------------------------------------------------\n",
      "Ag District:  ['EAST CENTRAL' 'NORTHEAST' 'NORTHWEST AND MOUNTAIN' 'SAN LUIS VALLEY'\n",
      " 'SOUTHEAST' 'SOUTHWEST' 'CENTRAL' 'NORTHERN' 'SOUTHERN' 'EAST' 'NORTH'\n",
      " 'SOUTH CENTRAL' 'EAST SOUTHEAST' 'NORTHWEST' 'WEST' 'WEST SOUTHWEST'\n",
      " 'NORTH CENTRAL' 'WEST CENTRAL' 'LOWER EASTERN SHORE'\n",
      " 'UPPER EASTERN SHORE' 'WESTERN' 'PANHANDLE' 'EASTERN' 'SOUTHEASTERN'\n",
      " 'SOUTHWESTERN' 'BLACK BELT' 'COASTAL PLAINS & GULF COAST'\n",
      " 'HISTORIC DISTRICT 21' 'HISTORIC DISTRICT 70' 'HISTORIC DISTRICT 80'\n",
      " 'HISTORIC DISTRICT 90' 'MOUNTAINS & EASTERN VALLEY' 'NORTHERN VALLEY'\n",
      " 'UPPER PLAINS & PIEDMONT' 'WIREGRASS' 'CENTRAL COAST' 'NORTHERN COAST'\n",
      " 'SACRAMENTO VALLEY' 'SAN JOAQUIN VALLEY' 'SIERRA MOUNTAINS'\n",
      " 'SISKIYOU-SHASTA' 'SOUTHERN CALIFORNIA' 'UPPER PENINSULA' 'LOWER DELTA'\n",
      " 'SOUTHEAST AND COASTAL' 'UPPER DELTA' 'SOUTH' 'NORTHEASTERN'\n",
      " 'NORTHWESTERN' 'CENTRAL BASIN' 'CUMBERLAND PLATEAU' 'DELTA'\n",
      " 'EAST TENNESSEE' 'WEST TENNESSEE' 'WESTERN RIM' 'BLACKLANDS'\n",
      " 'COASTAL BEND' 'CROSS TIMBERS' 'EAST TEXAS NORTH' 'EAST TEXAS SOUTH'\n",
      " 'EDWARDS PLATEAU' 'LOWER VALLEY' 'NORTHERN HIGH PLAINS'\n",
      " 'NORTHERN LOW PLAINS' 'SOUTH TEXAS' 'SOUTHERN HIGH PLAINS'\n",
      " 'SOUTHERN LOW PLAINS' 'TRANS-PECOS' 'UPPER COAST' 'BLUEGRASS'\n",
      " 'EASTERN OR MOUNTAIN' 'MIDWESTERN' 'PURCHASE' 'LONG ISLAND'\n",
      " 'CENTRAL COASTAL' 'CENTRAL PIEDMONT' 'NORTHERN COASTAL'\n",
      " 'NORTHERN MOUNTAIN' 'NORTHERN PIEDMONT' 'SOUTHERN COASTAL'\n",
      " 'SOUTHERN PIEDMONT' 'WESTERN MOUNTAIN']\n",
      "-------------------------------------------------------------------------------------------\n",
      "Ag District Code:  [60 20 10 80 90 70 50 40 30 21 51 82 52 97 11 81 96 12 22 91]\n",
      "-------------------------------------------------------------------------------------------\n",
      "County:  ['ADAMS' 'ARAPAHOE' 'CHEYENNE' ... 'WINKLER' 'AVERY' 'ZAPATA']\n",
      "-------------------------------------------------------------------------------------------\n",
      "County ANSI:  [  1.   5.  17.  35.  41.  39.  61.  63.  73.  95. 121. 125.  13.  59.\n",
      "  69.  75.  87. 115. 123.  15.  37.  49.  51.  81.  93.  97. 103. 107.\n",
      " 117. 119.   3.  21.  23. 105. 109.   9.  11.  25.  27.  43.  55.  71.\n",
      "  89.  99. 101.   7.  29.  33.  45.  67.  77.  83.  85.  91. 113.  19.\n",
      "  65.  57.  31.  47.  53. 129. 143. 175. 179. 203. 147. 183.  79. 139.\n",
      " 159. 173. 111. 197. 131. 141. 155. 161. 177. 195. 201. 127. 151. 165.\n",
      " 185. 191. 193. 133. 145. 153. 157. 163. 181. 189. 199. 169. 187. 135.\n",
      " 137. 149. 167. 171. 209. 205. 207.  nan 219. 221. 211. 227. 213. 215.\n",
      " 223. 225. 229. 217. 102.  36. 550. 800. 810. 235. 247. 283. 289. 303.\n",
      " 309. 319. 245. 251. 301. 297. 257. 317. 233. 295. 313. 271. 277. 287.\n",
      " 315. 321. 267. 279. 239. 243. 253. 259. 261. 273. 275. 307. 231. 255.\n",
      " 269. 293. 331. 349. 397. 439. 491. 409. 237. 333. 337. 363. 367. 417.\n",
      " 429. 447. 497. 503. 379. 467. 473. 265. 281. 299. 327. 411. 413. 431.\n",
      " 435. 451. 463. 341. 357. 359. 369. 375. 381. 393. 421. 437. 263. 345.\n",
      " 483. 485. 487. 285. 325. 453. 493. 249. 323. 507. 305. 329. 445. 501.\n",
      " 335. 353. 399. 415. 433. 441. 371. 389. 469. 481. 461. 465. 479. 291.\n",
      " 311. 241.  12. 186. 510. 355. 391. 425. 387. 423. 459. 499. 395. 383.\n",
      " 477.   6. 401. 449. 385. 489. 343. 347. 419. 457. 377. 365. 373. 427.\n",
      " 361.  14. 495. 455. 505.]\n",
      "-------------------------------------------------------------------------------------------\n",
      "Zip Code:  [nan]\n",
      "-------------------------------------------------------------------------------------------\n",
      "Region:  [nan]\n",
      "-------------------------------------------------------------------------------------------\n",
      "watershed_code:  [0]\n",
      "-------------------------------------------------------------------------------------------\n",
      "Watershed:  [nan]\n",
      "-------------------------------------------------------------------------------------------\n",
      "Commodity:  ['WHEAT']\n",
      "-------------------------------------------------------------------------------------------\n",
      "Data Item:  ['WHEAT - YIELD, MEASURED IN BU / ACRE']\n",
      "-------------------------------------------------------------------------------------------\n",
      "Domain:  ['TOTAL']\n",
      "-------------------------------------------------------------------------------------------\n",
      "Domain Category:  ['NOT SPECIFIED']\n",
      "-------------------------------------------------------------------------------------------\n",
      "Value:  [ 11.5  10.    5.  ... 110.8 105.9 100.9]\n",
      "-------------------------------------------------------------------------------------------\n",
      "CV (%):  [nan]\n",
      "-------------------------------------------------------------------------------------------\n"
     ]
    }
   ],
   "source": [
    "\n",
    "for col in df:\n",
    "    print(col + \": \", df[col].unique())\n",
    "    print(\"-------------------------------------------------------------------------------------------\")\n"
   ]
  },
  {
   "cell_type": "markdown",
   "id": "54274154-6ac2-4c6f-a1d2-2fe9a8269490",
   "metadata": {},
   "source": [
    "\n",
    "As can be seen some columns only hold meta-data about this dataset. These columns are are: Program, Period, Geo Level, Commodity, Data Item, Domain, and Domain Category.\n",
    "\n",
    "We propose to drop them.\n"
   ]
  },
  {
   "cell_type": "code",
   "execution_count": 7,
   "id": "dc8eccfe-9c26-4549-a0b4-f96087412391",
   "metadata": {},
   "outputs": [],
   "source": [
    "df = df.drop(columns=['Program', 'Period', 'Geo Level', 'Commodity', 'Data Item', 'Domain', 'Domain Category'])"
   ]
  },
  {
   "cell_type": "markdown",
   "id": "091897bc-f23c-41d7-851c-c5f116fae84d",
   "metadata": {},
   "source": [
    "\n",
    "Also it is not clear what the CV (%) column is about, and the data within it is all NaN.\n",
    "\n",
    "Therfore, we also chose to drop this column.\n"
   ]
  },
  {
   "cell_type": "code",
   "execution_count": 8,
   "id": "ba7686fb-fc4c-47f0-95b4-c8c7bdebfe36",
   "metadata": {},
   "outputs": [],
   "source": [
    "df = df.drop(columns=['CV (%)'])"
   ]
  },
  {
   "cell_type": "markdown",
   "id": "154fc120-9648-49e1-9b18-02488d412a4b",
   "metadata": {},
   "source": [
    "We can now start to take a look at each column in more details"
   ]
  },
  {
   "cell_type": "code",
   "execution_count": 9,
   "id": "44e616f9-91d4-4701-abde-b7c8fa1500ad",
   "metadata": {},
   "outputs": [
    {
     "data": {
      "text/html": [
       "<div>\n",
       "<style scoped>\n",
       "    .dataframe tbody tr th:only-of-type {\n",
       "        vertical-align: middle;\n",
       "    }\n",
       "\n",
       "    .dataframe tbody tr th {\n",
       "        vertical-align: top;\n",
       "    }\n",
       "\n",
       "    .dataframe thead th {\n",
       "        text-align: right;\n",
       "    }\n",
       "</style>\n",
       "<table border=\"1\" class=\"dataframe\">\n",
       "  <thead>\n",
       "    <tr style=\"text-align: right;\">\n",
       "      <th></th>\n",
       "      <th>Year</th>\n",
       "      <th>Week Ending</th>\n",
       "      <th>State</th>\n",
       "      <th>State ANSI</th>\n",
       "      <th>Ag District</th>\n",
       "      <th>Ag District Code</th>\n",
       "      <th>County</th>\n",
       "      <th>County ANSI</th>\n",
       "      <th>Zip Code</th>\n",
       "      <th>Region</th>\n",
       "      <th>watershed_code</th>\n",
       "      <th>Watershed</th>\n",
       "      <th>Value</th>\n",
       "    </tr>\n",
       "  </thead>\n",
       "  <tbody>\n",
       "    <tr>\n",
       "      <th>0</th>\n",
       "      <td>1939</td>\n",
       "      <td>NaN</td>\n",
       "      <td>COLORADO</td>\n",
       "      <td>8</td>\n",
       "      <td>EAST CENTRAL</td>\n",
       "      <td>60</td>\n",
       "      <td>ADAMS</td>\n",
       "      <td>1.0</td>\n",
       "      <td>NaN</td>\n",
       "      <td>NaN</td>\n",
       "      <td>0</td>\n",
       "      <td>NaN</td>\n",
       "      <td>11.5</td>\n",
       "    </tr>\n",
       "    <tr>\n",
       "      <th>1</th>\n",
       "      <td>1939</td>\n",
       "      <td>NaN</td>\n",
       "      <td>COLORADO</td>\n",
       "      <td>8</td>\n",
       "      <td>EAST CENTRAL</td>\n",
       "      <td>60</td>\n",
       "      <td>ARAPAHOE</td>\n",
       "      <td>5.0</td>\n",
       "      <td>NaN</td>\n",
       "      <td>NaN</td>\n",
       "      <td>0</td>\n",
       "      <td>NaN</td>\n",
       "      <td>10.0</td>\n",
       "    </tr>\n",
       "    <tr>\n",
       "      <th>2</th>\n",
       "      <td>1939</td>\n",
       "      <td>NaN</td>\n",
       "      <td>COLORADO</td>\n",
       "      <td>8</td>\n",
       "      <td>EAST CENTRAL</td>\n",
       "      <td>60</td>\n",
       "      <td>CHEYENNE</td>\n",
       "      <td>17.0</td>\n",
       "      <td>NaN</td>\n",
       "      <td>NaN</td>\n",
       "      <td>0</td>\n",
       "      <td>NaN</td>\n",
       "      <td>5.0</td>\n",
       "    </tr>\n",
       "    <tr>\n",
       "      <th>3</th>\n",
       "      <td>1939</td>\n",
       "      <td>NaN</td>\n",
       "      <td>COLORADO</td>\n",
       "      <td>8</td>\n",
       "      <td>EAST CENTRAL</td>\n",
       "      <td>60</td>\n",
       "      <td>DOUGLAS</td>\n",
       "      <td>35.0</td>\n",
       "      <td>NaN</td>\n",
       "      <td>NaN</td>\n",
       "      <td>0</td>\n",
       "      <td>NaN</td>\n",
       "      <td>14.0</td>\n",
       "    </tr>\n",
       "    <tr>\n",
       "      <th>4</th>\n",
       "      <td>1939</td>\n",
       "      <td>NaN</td>\n",
       "      <td>COLORADO</td>\n",
       "      <td>8</td>\n",
       "      <td>EAST CENTRAL</td>\n",
       "      <td>60</td>\n",
       "      <td>EL PASO</td>\n",
       "      <td>41.0</td>\n",
       "      <td>NaN</td>\n",
       "      <td>NaN</td>\n",
       "      <td>0</td>\n",
       "      <td>NaN</td>\n",
       "      <td>8.0</td>\n",
       "    </tr>\n",
       "  </tbody>\n",
       "</table>\n",
       "</div>"
      ],
      "text/plain": [
       "   Year  Week Ending     State  State ANSI   Ag District  Ag District Code  \\\n",
       "0  1939          NaN  COLORADO           8  EAST CENTRAL                60   \n",
       "1  1939          NaN  COLORADO           8  EAST CENTRAL                60   \n",
       "2  1939          NaN  COLORADO           8  EAST CENTRAL                60   \n",
       "3  1939          NaN  COLORADO           8  EAST CENTRAL                60   \n",
       "4  1939          NaN  COLORADO           8  EAST CENTRAL                60   \n",
       "\n",
       "     County  County ANSI  Zip Code  Region  watershed_code  Watershed  Value  \n",
       "0     ADAMS          1.0       NaN     NaN               0        NaN   11.5  \n",
       "1  ARAPAHOE          5.0       NaN     NaN               0        NaN   10.0  \n",
       "2  CHEYENNE         17.0       NaN     NaN               0        NaN    5.0  \n",
       "3   DOUGLAS         35.0       NaN     NaN               0        NaN   14.0  \n",
       "4   EL PASO         41.0       NaN     NaN               0        NaN    8.0  "
      ]
     },
     "execution_count": 9,
     "metadata": {},
     "output_type": "execute_result"
    }
   ],
   "source": [
    "df.head()"
   ]
  },
  {
   "cell_type": "markdown",
   "id": "b1b11679-c4ae-4bad-848d-6ac01b76b3f1",
   "metadata": {
    "tags": []
   },
   "source": [
    "\n",
    "### The Year Column\n"
   ]
  },
  {
   "cell_type": "code",
   "execution_count": 10,
   "id": "841f3a04-426f-496f-a1ee-bc6e6438a3c4",
   "metadata": {},
   "outputs": [],
   "source": [
    "years = df[\"Year\"]"
   ]
  },
  {
   "cell_type": "markdown",
   "id": "8df5f598-b448-4899-9d25-d873c0603d6b",
   "metadata": {
    "tags": []
   },
   "source": [
    "#### Missing Years"
   ]
  },
  {
   "cell_type": "code",
   "execution_count": 11,
   "id": "79fc4508-d895-4352-828d-52eb033257d3",
   "metadata": {},
   "outputs": [
    {
     "name": "stdout",
     "output_type": "stream",
     "text": [
      "The number of years between 1909 and 2007 is: 98\n",
      "The number of years recorded in the dataset is: 91\n"
     ]
    }
   ],
   "source": [
    "\n",
    "unique = numpy.sort(years.unique())\n",
    "\n",
    "min_year = unique[0]\n",
    "max_year = unique[len(unique) - 1]\n",
    "\n",
    "\n",
    "print( f\"The number of years between {min_year} and {max_year} is: {max_year - min_year}\" )\n",
    "print( f\"The number of years recorded in the dataset is: {len(unique)}\" )\n"
   ]
  },
  {
   "cell_type": "markdown",
   "id": "cbd521bf-1cc7-444c-9697-d68bb3bf5be8",
   "metadata": {},
   "source": [
    "As we can see, there seems to be 7 years missing in the dataset.\n",
    "\n",
    "We would like to see which stretches of time correspond to this missing data."
   ]
  },
  {
   "cell_type": "code",
   "execution_count": 12,
   "id": "3778dd55-8b38-4833-9c68-ef4541858bfd",
   "metadata": {},
   "outputs": [
    {
     "name": "stdout",
     "output_type": "stream",
     "text": [
      "The missing years are:\n"
     ]
    },
    {
     "data": {
      "text/html": [
       "<table>\n",
       "<tbody>\n",
       "<tr><td>1910-1917</td><td style=\"text-align: right;\">7</td></tr>\n",
       "</tbody>\n",
       "</table>"
      ],
      "text/plain": [
       "<IPython.core.display.HTML object>"
      ]
     },
     "metadata": {},
     "output_type": "display_data"
    }
   ],
   "source": [
    "\n",
    "table = []\n",
    "for i in range( len(unique) - 1 ):\n",
    "    if unique[i+1] - unique[i] > 1:\n",
    "        table.append( [f\"{unique[i] + 1}-{unique[i+1]-1}\", (unique[i+1] - 1) - (unique[i] + 1)] )\n",
    "\n",
    "print(\"The missing years are:\")\n",
    "displayAsTable(table)\n"
   ]
  },
  {
   "cell_type": "markdown",
   "id": "b2932a60-7d95-4b9a-9d59-7b865f4fda37",
   "metadata": {},
   "source": [
    "We can therefore confirm that that all of the missing years occur between 1909 and 1918.\n",
    "\n",
    "We can also notice that all of the missing years occur at the beginning of the records, with only one year (1909) preceding them.\n",
    "\n",
    "Futhuremore, these missing dates are quite old.\n",
    "\n",
    "Therefore, we can assume that removing the 1909 date from the record is safe, and that it will not affect the trends observed.\n",
    "\n",
    "In this way we will have a continuous stretch of time.\n",
    "\n",
    "However, for now we will keep it as we could maybe make use of it later."
   ]
  },
  {
   "cell_type": "markdown",
   "id": "5202bd67-0db1-454d-8b36-27c893ef093b",
   "metadata": {
    "tags": []
   },
   "source": [
    "#### Distribution of Year Records"
   ]
  },
  {
   "cell_type": "markdown",
   "id": "0e7a2d0b-7b08-4695-b88c-641c9d95f9dd",
   "metadata": {},
   "source": [
    "We would now like to see how many records exists for each year."
   ]
  },
  {
   "cell_type": "code",
   "execution_count": 13,
   "id": "303cdc85-c5a0-43ca-8736-55bf7070e772",
   "metadata": {},
   "outputs": [
    {
     "data": {
      "image/png": "[encoded data removed]",
      "text/plain": [
       "<Figure size 720x504 with 1 Axes>"
      ]
     },
     "metadata": {
      "needs_background": "light"
     },
     "output_type": "display_data"
    }
   ],
   "source": [
    "\n",
    "counts_numpy = numpy.unique(years, return_counts=True)\n",
    "counts = [counts_numpy[0].tolist(), counts_numpy[1].tolist()]\n",
    "\n",
    "# Figure Size\n",
    "fig = plt.figure(figsize =(10, 7))\n",
    "\n",
    "plt.title(\"Number of Records per Year\")\n",
    "plt.xlabel(\"years\")\n",
    "plt.ylabel(\"number of records\")\n",
    "plt.bar(counts[0], counts[1])\n",
    " \n",
    "# Show Plot\n",
    "plt.show()\n"
   ]
  },
  {
   "cell_type": "markdown",
   "id": "cd8ffcfe-9e44-4451-9f79-8bc594780c4e",
   "metadata": {},
   "source": [
    "As we can see the number of records per year are somewhat not distributed evenly.\n",
    "\n",
    "The earlier you go in time, the less records are available.\n",
    "\n",
    "However, that is not to say that older records are sparse.\n",
    "\n",
    "Even in the 1920s we can see an average of 500 records per year which is not necessarily that far off from the maximum which is around 2500.\n",
    "\n",
    "And not that far of from the mean of records per year: "
   ]
  },
  {
   "cell_type": "code",
   "execution_count": 14,
   "id": "aae422f4-ac4f-4003-8a3d-06f1a1ee6970",
   "metadata": {},
   "outputs": [
    {
     "name": "stdout",
     "output_type": "stream",
     "text": [
      "mean =  1669.142857142857 variance =  670.5760779323502\n"
     ]
    }
   ],
   "source": [
    "print(\"mean = \", numpy.mean(counts_numpy[1]), \"variance = \", numpy.std(counts_numpy[1]))"
   ]
  },
  {
   "cell_type": "markdown",
   "id": "cfd72089-36be-470f-8686-09f139a0d3bb",
   "metadata": {},
   "source": [
    "However, we now have the full justification to get rid of the data points that have a year of 1909 as the number of records associated with this year are vey few compared to other years.\n",
    "\n",
    "And this is in addition of the previous problems presented on this year."
   ]
  },
  {
   "cell_type": "code",
   "execution_count": 15,
   "id": "860c691c-edf4-41a3-9d28-75d7c166f854",
   "metadata": {},
   "outputs": [],
   "source": [
    "\n",
    "indices = df[df[\"Year\"] == 1909].index\n",
    "df.drop(indices, inplace=True)\n"
   ]
  },
  {
   "cell_type": "markdown",
   "id": "3fee4239-76df-4a14-982e-c89cbe7b976c",
   "metadata": {},
   "source": [
    "## State and State ANSI"
   ]
  },
  {
   "cell_type": "markdown",
   "id": "dee344c3-efb2-4405-843f-5e16914e92c7",
   "metadata": {},
   "source": [
    "We now look at the States and State ANSI columns"
   ]
  },
  {
   "cell_type": "code",
   "execution_count": null,
   "id": "6e4733bd-b3cb-4c76-95f4-89c9fd9a3bb7",
   "metadata": {},
   "outputs": [],
   "source": []
  },
  {
   "cell_type": "markdown",
   "id": "4f789d54-6305-4b76-b2dd-ecbae185c938",
   "metadata": {},
   "source": [
    "## Agricultural District and Agricultural District Code"
   ]
  },
  {
   "cell_type": "markdown",
   "id": "081a176f-64c0-4959-a2af-53978c0d791b",
   "metadata": {},
   "source": [
    "We will now look and the agricultural district column.\n",
    "\n",
    "However, before we proceed, we must understand what an agricultural district is.\n",
    "\n",
    "A district is a logical organisation of land that is genrally under the jurisdiction of a county.\n",
    "\n",
    "According to the New York state government website, agricultural districts are managed and created by counties, with the guidance of states.\n",
    "\n",
    "Agricultural districts are therefore, a sub-domain of counties.\n",
    "\n",
    "This column is quite a complex one since it operates at a finer grain of detail compared to counties (our base line measurment).\n",
    "\n",
    "Furthuremore, contrary to counties, agricultural districts are highly dependent on local politics and may be created, modified, and destroyed at the whim of local governance.\n",
    "\n",
    "Therefore, the interpretation of records using this column becomes even more complex when taking into account changes made to those districts.\n",
    "\n",
    "We will now take a look at the data before continuing our analysis.\n"
   ]
  },
  {
   "cell_type": "code",
   "execution_count": 16,
   "id": "685569f7-feb5-4b25-8e84-d0a3d44f0bda",
   "metadata": {},
   "outputs": [],
   "source": [
    "\n",
    "agdistricts = df[[\"Ag District\", \"Ag District Code\"]]\n"
   ]
  },
  {
   "cell_type": "code",
   "execution_count": 17,
   "id": "830d1720-bd0d-4d0f-b323-b18a2c6bfaa7",
   "metadata": {},
   "outputs": [
    {
     "name": "stdout",
     "output_type": "stream",
     "text": [
      "          Ag District  Ag District Code  Freq\n",
      "0          BLACK BELT                40   336\n",
      "1          BLACKLANDS                40   993\n",
      "2           BLUEGRASS                50   532\n",
      "3             CENTRAL                20   397\n",
      "4             CENTRAL                30   727\n",
      "..                ...               ...   ...\n",
      "104           WESTERN                10   860\n",
      "105           WESTERN                40   805\n",
      "106  WESTERN MOUNTAIN                20   156\n",
      "107       WESTERN RIM                30   612\n",
      "108         WIREGRASS                60   404\n",
      "\n",
      "[109 rows x 3 columns]\n"
     ]
    }
   ],
   "source": [
    "\n",
    "unique_districts = agdistricts.groupby([\"Ag District\", \"Ag District Code\"]).size().reset_index(name='Freq')\n",
    "print(unique_districts)\n"
   ]
  },
  {
   "cell_type": "markdown",
   "id": "7b10dad4-64b3-42b2-af1e-0cf2f0f33fc0",
   "metadata": {},
   "source": [
    "It seems like the agricultural district and its convening code does not match.\n",
    "\n",
    "Some districts have the same code while others have two different codes for the same district.\n",
    "\n",
    "It is not really possible to fix that without looking at the data at large. \n",
    "\n",
    "It may be the case that the agricultural district \"WESTERN\" is duplicated because this name exists in multiple states.\n",
    "\n",
    "However, what is sure, is that it seems like the agricultural district codes seem to be illogically distributed among records.\n",
    "\n",
    "The agricultutal district column gives us more information than the code one.\n",
    "\n",
    "For example, we might be able to extract information like the position of the record within the county or state such as: in the \"western\" part of the county.\n",
    "\n",
    "For now, we will keep the ag district code but concentrate on the agricultural districts alone. \n",
    "\n",
    "However, we will chose to keep the names that are the same in separate rows as they might actually be separate districts."
   ]
  },
  {
   "cell_type": "code",
   "execution_count": 18,
   "id": "0cbf4256-6c8a-4325-be10-aaa947f7111c",
   "metadata": {},
   "outputs": [],
   "source": [
    "\n",
    "unique_districts = unique_districts[[\"Ag District\", \"Freq\"]]\n"
   ]
  },
  {
   "cell_type": "markdown",
   "id": "2ab8d37c-415b-425e-bc60-9e4516c8463c",
   "metadata": {},
   "source": [
    "\n",
    "We will now proceed to analyze the distribution of records among districts.\n"
   ]
  },
  {
   "cell_type": "code",
   "execution_count": 19,
   "id": "67c21bc3-d163-4c8f-8366-cc5b9d31534d",
   "metadata": {},
   "outputs": [
    {
     "name": "stdout",
     "output_type": "stream",
     "text": [
      "Average number of records per district: 1392.366972477064\n",
      "Variance of the frequency of records per district: 7079182.122211933\n",
      "Max frequency: 16115\n",
      "Min frequency: 40\n"
     ]
    }
   ],
   "source": [
    "\n",
    "print( \"Average number of records per district:\", numpy.mean(unique_districts[\"Freq\"]) )\n",
    "print( \"Variance of the frequency of records per district:\", numpy.var(unique_districts[\"Freq\"]) )\n",
    "print( \"Max frequency:\", numpy.max(unique_districts[\"Freq\"]) )\n",
    "print( \"Min frequency:\", numpy.min(unique_districts[\"Freq\"]) )\n",
    "\n"
   ]
  },
  {
   "cell_type": "markdown",
   "id": "c8f75d56-beec-4b4d-aa48-fe580e916eae",
   "metadata": {},
   "source": [
    "As we can see, while the mean seems acceptanle at 1392, the variance is exeptionally high.\n",
    "\n",
    "This can also be seen in the difference between the max frequency, and the min frequency.\n",
    "\n",
    "To understand what is happening, let's look at the different quartiles."
   ]
  },
  {
   "cell_type": "code",
   "execution_count": 20,
   "id": "c97c32c7-6fdc-4caf-936e-eb277e9757d0",
   "metadata": {},
   "outputs": [
    {
     "name": "stdout",
     "output_type": "stream",
     "text": [
      "10% of records have a frequency per district less than 166.8\n",
      "25% of records have a frequency per district less than 310.0\n",
      "50% of records have a frequency per district less than 557.0\n",
      "75% of records have a frequency per district less than 993.0\n",
      "90% of records have a frequency per district less than 1971.8000000000006\n",
      "95% of records have a frequency per district less than 8414.399999999996\n"
     ]
    }
   ],
   "source": [
    "quants = numpy.quantile(unique_districts[\"Freq\"], [0.1, 0.25, 0.5, 0.75, 0.9, 0.95])\n",
    "print( f\"10% of records have a frequency per district less than {quants[0]}\" )\n",
    "print( f\"25% of records have a frequency per district less than {quants[1]}\" )\n",
    "print( f\"50% of records have a frequency per district less than {quants[2]}\" )\n",
    "print( f\"75% of records have a frequency per district less than {quants[3]}\" )\n",
    "print( f\"90% of records have a frequency per district less than {quants[4]}\" )\n",
    "print( f\"95% of records have a frequency per district less than {quants[5]}\" )"
   ]
  },
  {
   "cell_type": "markdown",
   "id": "098ae737-e9be-472b-9592-163272c1ae3b",
   "metadata": {},
   "source": [
    "As we can see the majority of records per district are heavily skewed towards the lowe side.\n",
    "\n",
    "While very few have a very large amount of records.\n",
    "\n",
    "This distribution seems very uneven.\n",
    "\n",
    "Let us look at this distribution."
   ]
  },
  {
   "cell_type": "code",
   "execution_count": 21,
   "id": "a39ec068-97f8-485c-8013-28d4a561ec9b",
   "metadata": {},
   "outputs": [
    {
     "data": {
      "image/png": "[encoded data removed]",
      "text/plain": [
       "<Figure size 720x504 with 1 Axes>"
      ]
     },
     "metadata": {
      "needs_background": "light"
     },
     "output_type": "display_data"
    }
   ],
   "source": [
    "# Figure Size\n",
    "fig = plt.figure(figsize =(10, 7))\n",
    "\n",
    "plt.title(\"Number of Records per Agricultural District\")\n",
    "plt.xlabel(\"Agricultural District\")\n",
    "plt.ylabel(\"Number of Records\")\n",
    "plt.bar(unique_districts[\"Ag District\"], unique_districts[\"Freq\"])\n",
    " \n",
    "# Show Plot\n",
    "plt.show()"
   ]
  },
  {
   "cell_type": "markdown",
   "id": "78b999f2-8765-4136-b6c6-7e4f0f38b46f",
   "metadata": {},
   "source": [
    "As we can see this distribution is quite uneven.\n",
    "\n",
    "However, without looking at the full picture, we are unable to make conclusions upon the impact of such a distribution.\n",
    "\n",
    "We will later analyse those aspects by breaking down this agricultural district column by state counties and years.\n",
    "\n",
    "This will allow us to understand why there is such a distinct distribution of records."
   ]
  },
  {
   "cell_type": "code",
   "execution_count": null,
   "id": "acb27e23-f8e8-4862-8333-776b4099c126",
   "metadata": {},
   "outputs": [],
   "source": [
    "\n"
   ]
  }
 ],
 "metadata": {
  "kernelspec": {
   "display_name": "cmps276",
   "language": "python",
   "name": "cmps276"
  },
  "language_info": {
   "codemirror_mode": {
    "name": "ipython",
    "version": 3
   },
   "file_extension": ".py",
   "mimetype": "text/x-python",
   "name": "python",
   "nbconvert_exporter": "python",
   "pygments_lexer": "ipython3",
   "version": "3.10.0"
  }
 },
 "nbformat": 4,
 "nbformat_minor": 5
}
