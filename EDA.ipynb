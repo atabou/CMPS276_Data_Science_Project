{
 "cells": [
  {
   "cell_type": "code",
   "execution_count": null,
   "id": "72af4946-9c0b-459b-a7fa-35bedbf0824f",
   "metadata": {},
   "outputs": [],
   "source": []
  }
 ],
 "metadata": {
  "kernelspec": {
   "display_name": "cmps276",
   "language": "python",
   "name": "cmps276"
  },
  "language_info": {
   "codemirror_mode": {
    "name": "ipython",
    "version": 3
   },
   "file_extension": ".py",
   "mimetype": "text/x-python",
   "name": "python",
   "nbconvert_exporter": "python",
   "pygments_lexer": "ipython3",
   "version": "3.10.0"
  }
 },
 "nbformat": 4,
 "nbformat_minor": 5
}
