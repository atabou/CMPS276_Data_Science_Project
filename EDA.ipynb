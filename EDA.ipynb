{
 "cells": [
  {
   "cell_type": "markdown",
   "id": "97bf4b46-a9d6-45cc-a463-dafdde2f9ef3",
   "metadata": {
    "tags": []
   },
   "source": [
    "\n",
    "# Setup\n"
   ]
  },
  {
   "cell_type": "markdown",
   "id": "2d8b8911-37ca-4cd6-89c9-eb49073d27b1",
   "metadata": {
    "tags": []
   },
   "source": [
    "## Download the required libraries"
   ]
  },
  {
   "cell_type": "code",
   "execution_count": null,
   "id": "72af4946-9c0b-459b-a7fa-35bedbf0824f",
   "metadata": {
    "scrolled": true,
    "tags": []
   },
   "outputs": [],
   "source": [
    "import sys\n",
    "\n",
    "print( sys.executable )\n",
    "\n",
    "!\"{sys.executable}\" -u -m pip install numpy\n",
    "!\"{sys.executable}\" -u -m pip install pandas\n",
    "!\"{sys.executable}\" -u -m pip install matplotlib\n",
    "!\"{sys.executable}\" -u -m pip install tabulate\n"
   ]
  },
  {
   "cell_type": "markdown",
   "id": "abd6ae53-abc5-411a-a775-96f31cef147c",
   "metadata": {},
   "source": [
    "\n",
    "## Import the required libraries\n"
   ]
  },
  {
   "cell_type": "code",
   "execution_count": null,
   "id": "4c2cd6c5-dc81-45c1-a590-6c0377ca019c",
   "metadata": {},
   "outputs": [],
   "source": [
    "import numpy as numpy\n",
    "import pandas as pandas\n",
    "import matplotlib.pyplot as plt\n",
    "\n",
    "from IPython.display import HTML, display\n",
    "import tabulate\n",
    "\n"
   ]
  },
  {
   "cell_type": "markdown",
   "id": "75f753c1-f2d9-4451-9bb5-6a68b9e21950",
   "metadata": {
    "tags": []
   },
   "source": [
    "## Define Useful Function"
   ]
  },
  {
   "cell_type": "code",
   "execution_count": null,
   "id": "f8d913ef-7ab9-4f25-b07a-063a1659de97",
   "metadata": {},
   "outputs": [],
   "source": [
    "\n",
    "def displayAsTable( lst: list[list] ) -> None:\n",
    "    display(\n",
    "        HTML(\n",
    "            tabulate.tabulate(lst, tablefmt='html')\n",
    "        )\n",
    "    )\n"
   ]
  },
  {
   "cell_type": "markdown",
   "id": "58eddb39-bba8-42f7-9b93-33fc651cd3e1",
   "metadata": {
    "tags": []
   },
   "source": [
    "\n",
    "# Exploratory Data Analysis\n"
   ]
  },
  {
   "cell_type": "markdown",
   "id": "1b184e2c-8c52-4931-9dfa-e74804d01b63",
   "metadata": {
    "tags": []
   },
   "source": [
    "## Load the datasets and combine them into one"
   ]
  },
  {
   "cell_type": "markdown",
   "id": "342d9cb9-ba66-4316-9a52-4cc6024ac500",
   "metadata": {},
   "source": [
    "These data sets exist in four separate files USDA website only lets us download a maximum number of rows of 50,000 per file."
   ]
  },
  {
   "cell_type": "code",
   "execution_count": null,
   "id": "d511b972-230b-4c01-a922-85d54c847c39",
   "metadata": {},
   "outputs": [],
   "source": [
    "\n",
    "df_1 = pandas.read_csv (r'data/CropYields-1909-1939.csv')\n",
    "df_2 = pandas.read_csv (r'data/CropYields-1940-1969.csv')\n",
    "df_3 = pandas.read_csv (r'data/CropYields-1970-1989.csv')\n",
    "df_4 = pandas.read_csv (r'data/CropYields-1990-2007.csv')\n",
    "\n",
    "df = pandas.concat([df_1, df_2, df_3, df_4])\n",
    "\n"
   ]
  },
  {
   "cell_type": "markdown",
   "id": "c35db906-3fdb-4c5c-ad7b-98541df8f19c",
   "metadata": {
    "tags": []
   },
   "source": [
    "\n",
    "## We take a look at the column names and the first couple of rows\n"
   ]
  },
  {
   "cell_type": "code",
   "execution_count": null,
   "id": "a4dab99b-89ad-45f3-a5fe-cddccda62d65",
   "metadata": {},
   "outputs": [],
   "source": [
    "df.head()"
   ]
  },
  {
   "cell_type": "markdown",
   "id": "3a4b0a91-2b91-4782-9dc0-981de31e09bf",
   "metadata": {},
   "source": [
    "\n",
    "We can see that there seems to be meta-data about this data set, as well as some missing data.\n",
    "\n",
    "We therefore choose to look at the unique values in each column.\n"
   ]
  },
  {
   "cell_type": "markdown",
   "id": "f328bb50-e57d-4198-84b0-7871e03daf2a",
   "metadata": {},
   "source": [
    "\n",
    "## We take a look at the unique values in each column\n"
   ]
  },
  {
   "cell_type": "markdown",
   "id": "65293cb9-642d-4b8f-8815-4ffcda1136a2",
   "metadata": {
    "tags": []
   },
   "source": [
    "### Global Analysis of Columns"
   ]
  },
  {
   "cell_type": "code",
   "execution_count": null,
   "id": "7334dd1f-31aa-4b98-a88c-e1cfd9b6b8e0",
   "metadata": {
    "scrolled": true,
    "tags": []
   },
   "outputs": [],
   "source": [
    "\n",
    "for col in df:\n",
    "    print(col + \": \", df[col].unique())\n",
    "    print(\"-------------------------------------------------------------------------------------------\")\n"
   ]
  },
  {
   "cell_type": "markdown",
   "id": "54274154-6ac2-4c6f-a1d2-2fe9a8269490",
   "metadata": {},
   "source": [
    "\n",
    "As can be seen some columns only hold meta-data about this dataset. These columns are are: Program, Period, Geo Level, Commodity, Data Item, Domain, and Domain Category.\n",
    "\n",
    "We propose to drop them.\n"
   ]
  },
  {
   "cell_type": "code",
   "execution_count": null,
   "id": "dc8eccfe-9c26-4549-a0b4-f96087412391",
   "metadata": {},
   "outputs": [],
   "source": [
    "df = df.drop(columns=['Program', 'Period', 'Geo Level', 'Commodity', 'Data Item', 'Domain', 'Domain Category'])"
   ]
  },
  {
   "cell_type": "markdown",
   "id": "091897bc-f23c-41d7-851c-c5f116fae84d",
   "metadata": {},
   "source": [
    "\n",
    "Also it is not clear what the CV (%) column is about, and the data within it is all NaN.\n",
    "\n",
    "Therfore, we also chose to drop this column.\n"
   ]
  },
  {
   "cell_type": "code",
   "execution_count": null,
   "id": "ba7686fb-fc4c-47f0-95b4-c8c7bdebfe36",
   "metadata": {},
   "outputs": [],
   "source": [
    "df = df.drop(columns=['CV (%)'])"
   ]
  },
  {
   "cell_type": "markdown",
   "id": "154fc120-9648-49e1-9b18-02488d412a4b",
   "metadata": {},
   "source": [
    "We can now start to take a look at each column in more details"
   ]
  },
  {
   "cell_type": "code",
   "execution_count": null,
   "id": "44e616f9-91d4-4701-abde-b7c8fa1500ad",
   "metadata": {},
   "outputs": [],
   "source": [
    "df.head()"
   ]
  },
  {
   "cell_type": "markdown",
   "id": "b1b11679-c4ae-4bad-848d-6ac01b76b3f1",
   "metadata": {
    "tags": []
   },
   "source": [
    "\n",
    "### The Year Column\n"
   ]
  },
  {
   "cell_type": "code",
   "execution_count": null,
   "id": "841f3a04-426f-496f-a1ee-bc6e6438a3c4",
   "metadata": {},
   "outputs": [],
   "source": [
    "years = df[\"Year\"]"
   ]
  },
  {
   "cell_type": "markdown",
   "id": "8df5f598-b448-4899-9d25-d873c0603d6b",
   "metadata": {
    "tags": []
   },
   "source": [
    "#### Missing Years"
   ]
  },
  {
   "cell_type": "code",
   "execution_count": null,
   "id": "79fc4508-d895-4352-828d-52eb033257d3",
   "metadata": {},
   "outputs": [],
   "source": [
    "\n",
    "unique = numpy.sort(years.unique())\n",
    "\n",
    "min_year = unique[0]\n",
    "max_year = unique[len(unique) - 1]\n",
    "\n",
    "\n",
    "print( f\"The number of years between {min_year} and {max_year} is: {max_year - min_year}\" )\n",
    "print( f\"The number of years recorded in the dataset is: {len(unique)}\" )\n"
   ]
  },
  {
   "cell_type": "markdown",
   "id": "cbd521bf-1cc7-444c-9697-d68bb3bf5be8",
   "metadata": {},
   "source": [
    "As we can see, there seems to be 7 years missing in the dataset.\n",
    "\n",
    "We would like to see which stretches of time correspond to this missing data."
   ]
  },
  {
   "cell_type": "code",
   "execution_count": null,
   "id": "3778dd55-8b38-4833-9c68-ef4541858bfd",
   "metadata": {},
   "outputs": [],
   "source": [
    "\n",
    "table = []\n",
    "for i in range( len(unique) - 1 ):\n",
    "    if unique[i+1] - unique[i] > 1:\n",
    "        table.append( [f\"{unique[i] + 1}-{unique[i+1]-1}\", (unique[i+1] - 1) - (unique[i] + 1)] )\n",
    "\n",
    "print(\"The missing years are:\")\n",
    "displayAsTable(table)\n"
   ]
  },
  {
   "cell_type": "markdown",
   "id": "b2932a60-7d95-4b9a-9d59-7b865f4fda37",
   "metadata": {},
   "source": [
    "We can therefore confirm that that all of the missing years occur between 1909 and 1918.\n",
    "\n",
    "We can also notice that all of the missing years occur at the beginning of the records, with only one year (1909) preceding them.\n",
    "\n",
    "Futhuremore, these missing dates are quite old.\n",
    "\n",
    "Therefore, we can assume that removing the 1909 date from the record is safe, and that it will not affect the trends observed.\n",
    "\n",
    "In this way we will have a continuous stretch of time.\n",
    "\n",
    "However, for now we will keep it as we could maybe make use of it later."
   ]
  },
  {
   "cell_type": "markdown",
   "id": "5202bd67-0db1-454d-8b36-27c893ef093b",
   "metadata": {
    "tags": []
   },
   "source": [
    "#### Distribution of Year Records"
   ]
  },
  {
   "cell_type": "markdown",
   "id": "0e7a2d0b-7b08-4695-b88c-641c9d95f9dd",
   "metadata": {},
   "source": [
    "We would now like to see how many records exists for each year."
   ]
  },
  {
   "cell_type": "code",
   "execution_count": null,
   "id": "303cdc85-c5a0-43ca-8736-55bf7070e772",
   "metadata": {},
   "outputs": [],
   "source": [
    "\n",
    "counts_numpy = numpy.unique(years, return_counts=True)\n",
    "counts = [counts_numpy[0].tolist(), counts_numpy[1].tolist()]\n",
    "\n",
    "# Figure Size\n",
    "fig = plt.figure(figsize =(10, 7))\n",
    "\n",
    "plt.title(\"Number of Records per Year\")\n",
    "plt.xlabel(\"years\")\n",
    "plt.ylabel(\"number of records\")\n",
    "plt.bar(counts[0], counts[1])\n",
    " \n",
    "# Show Plot\n",
    "plt.show()\n"
   ]
  },
  {
   "cell_type": "markdown",
   "id": "cd8ffcfe-9e44-4451-9f79-8bc594780c4e",
   "metadata": {},
   "source": [
    "As we can see the number of records per year are somewhat not distributed evenly.\n",
    "\n",
    "The earlier you go in time, the less records are available.\n",
    "\n",
    "However, that is not to say that older records are sparse.\n",
    "\n",
    "Even in the 1920s we can see an average of 500 records per year which is not necessarily that far off from the maximum which is around 2500.\n",
    "\n",
    "And not that far of from the mean of records per year: "
   ]
  },
  {
   "cell_type": "code",
   "execution_count": null,
   "id": "aae422f4-ac4f-4003-8a3d-06f1a1ee6970",
   "metadata": {},
   "outputs": [],
   "source": [
    "print(\"mean = \", numpy.mean(counts_numpy[1]), \"variance = \", numpy.std(counts_numpy[1]))"
   ]
  },
  {
   "cell_type": "markdown",
   "id": "cfd72089-36be-470f-8686-09f139a0d3bb",
   "metadata": {},
   "source": [
    "However, we now have the full justification to get rid of the data points that have a year of 1909 as the number of records associated with this year are vey few compared to other years.\n",
    "\n",
    "And this is in addition of the previous problems presented on this year."
   ]
  },
  {
   "cell_type": "code",
   "execution_count": null,
   "id": "860c691c-edf4-41a3-9d28-75d7c166f854",
   "metadata": {},
   "outputs": [],
   "source": [
    "\n",
    "indices = df[df[\"Year\"] == 1909].index\n",
    "df.drop(indices, inplace=True)\n"
   ]
  },
  {
   "cell_type": "markdown",
   "id": "3fee4239-76df-4a14-982e-c89cbe7b976c",
   "metadata": {},
   "source": [
    "## State and State ANSI"
   ]
  },
  {
   "cell_type": "markdown",
   "id": "dee344c3-efb2-4405-843f-5e16914e92c7",
   "metadata": {},
   "source": [
    "We now look at the States and State ANSI columns"
   ]
  },
  {
   "cell_type": "code",
   "execution_count": null,
   "id": "6e4733bd-b3cb-4c76-95f4-89c9fd9a3bb7",
   "metadata": {},
   "outputs": [],
   "source": []
  },
  {
   "cell_type": "markdown",
   "id": "4f789d54-6305-4b76-b2dd-ecbae185c938",
   "metadata": {},
   "source": [
    "## Agricultural District and Agricultural District Code"
   ]
  },
  {
   "cell_type": "markdown",
   "id": "081a176f-64c0-4959-a2af-53978c0d791b",
   "metadata": {},
   "source": [
    "We will now look and the agricultural district column.\n",
    "\n",
    "However, before we proceed, we must understand what an agricultural district is.\n",
    "\n",
    "A district is a logical organisation of land that is genrally under the jurisdiction of a county.\n",
    "\n",
    "According to the New York state government website, agricultural districts are managed and created by counties, with the guidance of states.\n",
    "\n",
    "Agricultural districts are therefore, a sub-domain of counties.\n",
    "\n",
    "This column is quite a complex one since it operates at a finer grain of detail compared to counties (our base line measurment).\n",
    "\n",
    "Furthuremore, contrary to counties, agricultural districts are highly dependent on local politics and may be created, modified, and destroyed at the whim of local governance.\n",
    "\n",
    "Therefore, the interpretation of records using this column becomes even more complex when taking into account changes made to those districts.\n",
    "\n",
    "We will now take a look at the data before continuing our analysis.\n"
   ]
  },
  {
   "cell_type": "code",
   "execution_count": null,
   "id": "685569f7-feb5-4b25-8e84-d0a3d44f0bda",
   "metadata": {},
   "outputs": [],
   "source": [
    "\n",
    "agdistricts = df[[\"Ag District\", \"Ag District Code\"]]\n"
   ]
  },
  {
   "cell_type": "code",
   "execution_count": null,
   "id": "830d1720-bd0d-4d0f-b323-b18a2c6bfaa7",
   "metadata": {},
   "outputs": [],
   "source": [
    "\n",
    "unique_districts = agdistricts.groupby([\"Ag District\", \"Ag District Code\"]).size().reset_index(name='Freq')\n",
    "print(unique_districts)\n"
   ]
  },
  {
   "cell_type": "markdown",
   "id": "7b10dad4-64b3-42b2-af1e-0cf2f0f33fc0",
   "metadata": {},
   "source": [
    "It seems like the agricultural district and its convening code does not match.\n",
    "\n",
    "Some districts have the same code while others have two different codes for the same district.\n",
    "\n",
    "It is not really possible to fix that without looking at the data at large. \n",
    "\n",
    "It may be the case that the agricultural district \"WESTERN\" is duplicated because this name exists in multiple states.\n",
    "\n",
    "However, what is sure, is that it seems like the agricultural district codes seem to be illogically distributed among records.\n",
    "\n",
    "The agricultutal district column gives us more information than the code one.\n",
    "\n",
    "For example, we might be able to extract information like the position of the record within the county or state such as: in the \"western\" part of the county.\n",
    "\n",
    "For now, we will keep the ag district code but concentrate on the agricultural districts alone. \n",
    "\n",
    "However, we will chose to keep the names that are the same in separate rows as they might actually be separate districts."
   ]
  },
  {
   "cell_type": "code",
   "execution_count": null,
   "id": "0cbf4256-6c8a-4325-be10-aaa947f7111c",
   "metadata": {},
   "outputs": [],
   "source": [
    "\n",
    "unique_districts = unique_districts[[\"Ag District\", \"Freq\"]]\n"
   ]
  },
  {
   "cell_type": "markdown",
   "id": "2ab8d37c-415b-425e-bc60-9e4516c8463c",
   "metadata": {},
   "source": [
    "\n",
    "We will now proceed to analyze the distribution of records among districts.\n"
   ]
  },
  {
   "cell_type": "code",
   "execution_count": null,
   "id": "67c21bc3-d163-4c8f-8366-cc5b9d31534d",
   "metadata": {},
   "outputs": [],
   "source": [
    "\n",
    "print( \"Average number of records per district:\", numpy.mean(unique_districts[\"Freq\"]) )\n",
    "print( \"Variance of the frequency of records per district:\", numpy.var(unique_districts[\"Freq\"]) )\n",
    "print( \"Max frequency:\", numpy.max(unique_districts[\"Freq\"]) )\n",
    "print( \"Min frequency:\", numpy.min(unique_districts[\"Freq\"]) )\n",
    "\n"
   ]
  },
  {
   "cell_type": "markdown",
   "id": "c8f75d56-beec-4b4d-aa48-fe580e916eae",
   "metadata": {},
   "source": [
    "As we can see, while the mean seems acceptanle at 1392, the variance is exeptionally high.\n",
    "\n",
    "This can also be seen in the difference between the max frequency, and the min frequency.\n",
    "\n",
    "To understand what is happening, let's look at the different quartiles."
   ]
  },
  {
   "cell_type": "code",
   "execution_count": null,
   "id": "c97c32c7-6fdc-4caf-936e-eb277e9757d0",
   "metadata": {},
   "outputs": [],
   "source": [
    "quants = numpy.quantile(unique_districts[\"Freq\"], [0.1, 0.25, 0.5, 0.75, 0.9, 0.95])\n",
    "print( f\"10% of records have a frequency per district less than {quants[0]}\" )\n",
    "print( f\"25% of records have a frequency per district less than {quants[1]}\" )\n",
    "print( f\"50% of records have a frequency per district less than {quants[2]}\" )\n",
    "print( f\"75% of records have a frequency per district less than {quants[3]}\" )\n",
    "print( f\"90% of records have a frequency per district less than {quants[4]}\" )\n",
    "print( f\"95% of records have a frequency per district less than {quants[5]}\" )"
   ]
  },
  {
   "cell_type": "markdown",
   "id": "098ae737-e9be-472b-9592-163272c1ae3b",
   "metadata": {},
   "source": [
    "As we can see the majority of records per district are heavily skewed towards the lowe side.\n",
    "\n",
    "While very few have a very large amount of records.\n",
    "\n",
    "This distribution seems very uneven.\n",
    "\n",
    "Let us look at this distribution."
   ]
  },
  {
   "cell_type": "code",
   "execution_count": null,
   "id": "a39ec068-97f8-485c-8013-28d4a561ec9b",
   "metadata": {},
   "outputs": [],
   "source": [
    "# Figure Size\n",
    "fig = plt.figure(figsize =(10, 7))\n",
    "\n",
    "plt.title(\"Number of Records per Agricultural District\")\n",
    "plt.xlabel(\"Agricultural District\")\n",
    "plt.ylabel(\"Number of Records\")\n",
    "plt.bar(unique_districts[\"Ag District\"], unique_districts[\"Freq\"])\n",
    " \n",
    "# Show Plot\n",
    "plt.show()"
   ]
  },
  {
   "cell_type": "markdown",
   "id": "78b999f2-8765-4136-b6c6-7e4f0f38b46f",
   "metadata": {},
   "source": [
    "As we can see this distribution is quite uneven.\n",
    "\n",
    "However, without looking at the full picture, we are unable to make conclusions upon the impact of such a distribution.\n",
    "\n",
    "We will later analyse those aspects by breaking down this agricultural district column by state counties and years.\n",
    "\n",
    "This will allow us to understand why there is such a distinct distribution of records."
   ]
  },
  {
   "cell_type": "code",
   "execution_count": null,
   "id": "acb27e23-f8e8-4862-8333-776b4099c126",
   "metadata": {},
   "outputs": [],
   "source": [
    "\n"
   ]
  }
 ],
 "metadata": {
  "kernelspec": {
   "display_name": "cmps276",
   "language": "python",
   "name": "cmps276"
  },
  "language_info": {
   "codemirror_mode": {
    "name": "ipython",
    "version": 3
   },
   "file_extension": ".py",
   "mimetype": "text/x-python",
   "name": "python",
   "nbconvert_exporter": "python",
   "pygments_lexer": "ipython3",
   "version": "3.10.0"
  }
 },
 "nbformat": 4,
 "nbformat_minor": 5
}
